{
 "cells": [
  {
   "cell_type": "code",
   "execution_count": 1,
   "metadata": {},
   "outputs": [],
   "source": [
    "# Getting packages #\n",
    "%matplotlib widget\n",
    "\n",
    "from matplotlib import pyplot as plt\n",
    "import numpy as np\n",
    "import pandas as pd\n",
    "import scipy.io\n",
    "\n",
    "import plotly.express as px\n",
    "\n",
    "import main\n",
    "from main import flight\n",
    "from main import analysis\n",
    "import propellers\n",
    "import motors\n",
    "from aircraft import airplane\n",
    "import cl_finders\n",
    "\n",
    "from matplotlib.backends.backend_pdf import PdfPages"
   ]
  },
  {
   "cell_type": "code",
   "execution_count": 2,
   "metadata": {},
   "outputs": [
    {
     "name": "stdout",
     "output_type": "stream",
     "text": [
      "49.455899339389134\n",
      "48.261653135181035\n",
      "48.242910673597834\n"
     ]
    },
    {
     "data": {
      "text/plain": [
       "48.242910673597834"
      ]
     },
     "execution_count": 2,
     "metadata": {},
     "output_type": "execute_result"
    }
   ],
   "source": [
    "prop = propellers.aeronaut20x8() # Using aeronaut 20x8 for this flight\n",
    "prop.getRPM(5.4, 1.14, 10)"
   ]
  }
 ],
 "metadata": {
  "kernelspec": {
   "display_name": "superwake-records",
   "language": "python",
   "name": "python3"
  },
  "language_info": {
   "codemirror_mode": {
    "name": "ipython",
    "version": 3
   },
   "file_extension": ".py",
   "mimetype": "text/x-python",
   "name": "python",
   "nbconvert_exporter": "python",
   "pygments_lexer": "ipython3",
   "version": "3.10.4"
  },
  "orig_nbformat": 4,
  "vscode": {
   "interpreter": {
    "hash": "c9cddf852242832967bb2f59795ae071090fb5257b7f5bb34218ff6533d42673"
   }
  }
 },
 "nbformat": 4,
 "nbformat_minor": 2
}
