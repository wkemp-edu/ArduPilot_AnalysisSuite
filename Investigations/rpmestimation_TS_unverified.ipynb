{
 "cells": [
  {
   "attachments": {},
   "cell_type": "markdown",
   "metadata": {},
   "source": [
    "# Checking the RPM Estimation Algorithm #\n",
    "\n",
    "For a given propeller, we wish to know the RPM from several knowns:\n",
    "1. Thrust developed (Newtons)\n",
    "2. Air density (kg/m^3)\n",
    "3. True Airspeed (m/s)\n",
    "\n",
    "To do so requires an iterative method, since the CT is a function of J, which is a function of airspeed and RPM.  \n",
    "The following method uses the Newton-Ralphsen Method to converge to the intended thrust.  "
   ]
  },
  {
   "cell_type": "code",
   "execution_count": 2,
   "metadata": {},
   "outputs": [],
   "source": [
    "# Getting Modules #\n",
    "%matplotlib widget\n",
    "\n",
    "import sys\n",
    "sys.path.append('../')\n",
    "\n",
    "from matplotlib import pyplot as plt\n",
    "import numpy as np\n",
    "import pandas as pd\n",
    "import scipy.io\n",
    "\n",
    "import plotly.express as px\n",
    "\n",
    "import main\n",
    "from main import flight\n",
    "from main import analysis\n",
    "import propellers\n",
    "import motors\n",
    "from aircraft import airplane\n",
    "import cl_finders\n",
    "\n",
    "from matplotlib.backends.backend_pdf import PdfPages"
   ]
  },
  {
   "cell_type": "code",
   "execution_count": 9,
   "metadata": {},
   "outputs": [
    {
     "name": "stdout",
     "output_type": "stream",
     "text": [
      "48.41746073755463\n",
      "47.44245816428137\n",
      "47.4296117253009\n"
     ]
    },
    {
     "data": {
      "text/plain": [
       "47.4296117253009"
      ]
     },
     "execution_count": 9,
     "metadata": {},
     "output_type": "execute_result"
    }
   ],
   "source": [
    "# Checking if function runs #\n",
    "prop = propellers.aeronaut20x8() # Using aeronaut 20x8 for this flight\n",
    "prop.getRPM(5, 1.14, 10) # Checking single thrust as input"
   ]
  },
  {
   "attachments": {},
   "cell_type": "markdown",
   "metadata": {},
   "source": [
    "Results above represent the revolutions per second"
   ]
  },
  {
   "cell_type": "markdown",
   "metadata": {},
   "source": []
  }
 ],
 "metadata": {
  "kernelspec": {
   "display_name": "superwake-records",
   "language": "python",
   "name": "python3"
  },
  "language_info": {
   "codemirror_mode": {
    "name": "ipython",
    "version": 3
   },
   "file_extension": ".py",
   "mimetype": "text/x-python",
   "name": "python",
   "nbconvert_exporter": "python",
   "pygments_lexer": "ipython3",
   "version": "3.10.4"
  },
  "orig_nbformat": 4,
  "vscode": {
   "interpreter": {
    "hash": "c9cddf852242832967bb2f59795ae071090fb5257b7f5bb34218ff6533d42673"
   }
  }
 },
 "nbformat": 4,
 "nbformat_minor": 2
}
