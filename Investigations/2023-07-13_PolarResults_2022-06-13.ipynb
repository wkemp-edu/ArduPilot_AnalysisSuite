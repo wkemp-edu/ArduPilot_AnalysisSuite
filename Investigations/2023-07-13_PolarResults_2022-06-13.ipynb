{
 "cells": [
  {
   "cell_type": "markdown",
   "metadata": {},
   "source": [
    "# Polar Production from 2022 June 13th Data\n",
    "Purpose: Clean analysis of june 13th data, adding descending results!"
   ]
  }
 ],
 "metadata": {
  "language_info": {
   "name": "python"
  },
  "orig_nbformat": 4
 },
 "nbformat": 4,
 "nbformat_minor": 2
}
