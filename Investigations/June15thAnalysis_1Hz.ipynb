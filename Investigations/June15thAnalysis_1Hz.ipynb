{
 "cells": [
  {
   "attachments": {},
   "cell_type": "markdown",
   "id": "7b68875e",
   "metadata": {},
   "source": [
    "# <a id='toc1_'></a>[Analysis of June 15th 2022 Flight at 1 Hz](#toc0_)\n",
    "\n",
    "Goal: \n",
    "1. Import the data one time\n",
    "2. Plot in modifiable windows\n",
    "3. Do basic analysis with static mask\n",
    "4. Show results in pretty plots\n",
    "\n",
    "\n",
    "\n",
    "## <a id='toc1_1_'></a>[Table of Contents](#toc0_)\n",
    "* Importing 1 Hz Data\n",
    "* Manual index masking method (1 Hz)\n",
    "    * Descent mask\n",
    "    * Cruising mask\n",
    "* Main Analysis\n",
    "    * $P_{required}$ Reduction\n",
    "        * $\\eta$ Steady [cl_finders.eta_steady]\n",
    "        * $ C_T $ Steady [cl_finders.thrust_steady]\n",
    "        * Descending [cf_finders.desc2preq]\n",
    "    * $C_D$ Reduction\n",
    "        * Turning power to drag coefficient [cl_finders.preq2cd]\n",
    "    * CL Reduction\n",
    "        * Bank angle compensated [cl_finders.cl_banked]\n",
    "* Descending drag polar production\n",
    "    * $C_L$, $C_D$ averaging\n",
    "        * Plotting raw polar data w. errorbars\n",
    "    * Curve fitting polar [cl_finders.cd2polar]\n",
    "    * Standardized $P_{required}$ [cl_finders.polar2preqew]\n",
    "* Cruising drag polar production\n",
    "    * $C_L$, $C_D$ averaging\n",
    "\n"
   ]
  },
  {
   "attachments": {},
   "cell_type": "markdown",
   "id": "c92a28af",
   "metadata": {},
   "source": [
    "**Table of contents**<a id='toc0_'></a>    \n",
    "- [Analysis of June 15th 2022 Flight at 1 Hz](#toc1_)    \n",
    "  - [Table of Contents](#toc1_1_)    \n",
    "  - [Importing packages \\& Libraries](#toc1_2_)    \n",
    "  - [Importing data at 1 Hz](#toc1_3_)    \n",
    "  - [Defining Vehicle Parameters](#toc1_4_)    \n",
    "  - [Manually defining 1 Hz Mask](#toc1_5_)    \n",
    "  - [Main Analysis: $P_{req}$, $C_D$, $C_L$ Datapoints](#toc1_6_)    \n",
    "  - [Descending Drag Polar Production](#toc1_7_)    \n",
    "    - [Averaging $C_D$, $C_L$, Plotting](#toc1_7_1_)    \n",
    "    - [Curve fitting polar [cl_finders.cd2polar]](#toc1_7_2_)    \n",
    "    - [Standardized $P_{required}$ [cl_finders.polar2preqew]](#toc1_7_3_)    \n",
    "  - [Cruising Drag Polar Production](#toc1_8_)    \n",
    "    - [Averaging $C_D$, $C_L$, Plotting](#toc1_8_1_)    \n",
    "    - [Curve fitting Polar [cl_finders.cd2polar]](#toc1_8_2_)    \n",
    "    - [Standardized $P_{req}$](#toc1_8_3_)    \n",
    "  - [Results Summary (Cruising \\& Descending)](#toc1_9_)    \n",
    "    - [Getting Angle of Attack vs $C_L$ Correlation](#toc1_9_1_)    \n",
    "    - [Exporting Aerodynamic model of Vehicle](#toc1_9_2_)    \n",
    "    - [Plotting $P_{req}$ vs. EAS Raw and Fitted Results](#toc1_9_3_)    \n",
    "    - [Plotting C_L vs C_D, Descending and Cruising Results](#toc1_9_4_)    \n",
    "  - [Time Indexed Plots](#toc1_10_)    \n",
    "    - [Plotting Time Indexed data - Demanded vs True Airspeed \\& Motor RPM](#toc1_10_1_)    \n",
    "    - [Plotting motor RPM over the selected time intervals](#toc1_10_2_)    \n",
    "    - [Plotting J to see where data needs exclusion](#toc1_10_3_)    \n",
    "    - [Plotting System Efficiency](#toc1_10_4_)    \n",
    "    - [Plotting Descent Rates, Zero RPM highlighted](#toc1_10_5_)    \n",
    "    - [Pitch and Coefficient of Lift Time Plots](#toc1_10_6_)    \n",
    "\n",
    "<!-- vscode-jupyter-toc-config\n",
    "\tnumbering=false\n",
    "\tanchor=true\n",
    "\tflat=false\n",
    "\tminLevel=1\n",
    "\tmaxLevel=6\n",
    "\t/vscode-jupyter-toc-config -->\n",
    "<!-- THIS CELL WILL BE REPLACED ON TOC UPDATE. DO NOT WRITE YOUR TEXT IN THIS CELL -->"
   ]
  },
  {
   "cell_type": "code",
   "execution_count": 1,
   "id": "d92c0463",
   "metadata": {},
   "outputs": [],
   "source": [
    "### Definining name of analysis ###\n",
    "name = '2022-07-01_CREATeV_2022-06-15_Analysis_1Hz'\n",
    "data_path = '../data/'\n",
    "data_folder = 'createv-2022-06-15'\n",
    "file_name = 'june15_2022.BIN'\n",
    "datasave_path = data_path+data_folder+'/'\n",
    "result_path = '../Results/'+name+'/'\n",
    "figure_path = '../Figures/'+name+'/'"
   ]
  },
  {
   "attachments": {},
   "cell_type": "markdown",
   "id": "88e4bf55",
   "metadata": {},
   "source": [
    "## <a id='toc1_2_'></a>[Importing packages \\& Libraries](#toc0_)"
   ]
  },
  {
   "cell_type": "code",
   "execution_count": 2,
   "id": "ae5ad89a",
   "metadata": {},
   "outputs": [],
   "source": [
    "from os import sys\n",
    "import os\n",
    "sys.path.append('../')\n",
    "\n",
    "%matplotlib widget\n",
    "\n",
    "from matplotlib import pyplot as plt\n",
    "import numpy as np\n",
    "import pandas as pd\n",
    "import scipy.io\n",
    "\n",
    "import main\n",
    "from main import flight\n",
    "from main import analysis\n",
    "import propellers\n",
    "import motors\n",
    "from aircraft import airplane\n",
    "import cl_finders\n",
    "\n",
    "### Creating Folders for Results/Data ###\n",
    "if not os.path.exists(result_path):\n",
    "    os.makedirs(result_path)\n",
    "if not os.path.exists(figure_path):\n",
    "    os.makedirs(figure_path)\n",
    "\n",
    "# Setting Plot Defaults\n",
    "plt.style.use('../basic_plotter.mplstyle')"
   ]
  },
  {
   "attachments": {},
   "cell_type": "markdown",
   "id": "9b009c44",
   "metadata": {},
   "source": [
    "## <a id='toc1_3_'></a>[Importing data at 1 Hz](#toc0_)"
   ]
  },
  {
   "cell_type": "code",
   "execution_count": null,
   "id": "18b21733",
   "metadata": {},
   "outputs": [],
   "source": [
    "# Importing data, specifying import characteristics, backing up results\n",
    "rate = \"1s\"\n",
    "interpolateM = \"linear\"\n",
    "processor = \"CREATeV_2022\"\n",
    "\n",
    "rawdata_name = data_folder+'/'+file_name.split('.')[0]+'_'+rate+'_'+interpolateM+'_'+processor+'.pkl'\n",
    "\n",
    "# Checking if the data is already pickled for analysis\n",
    "if os.path.exists(data_path+rawdata_name):\n",
    "    df = pd.read_pickle(data_path+rawdata_name)\n",
    "else:\n",
    "    df = main.get_data(processor, data_folder+'/'+file_name, rate)\n",
    "    df = df.interpolate(method=interpolateM)\n",
    "    pd.to_pickle(df, data_path+rawdata_name) # Storing parsed data"
   ]
  },
  {
   "cell_type": "code",
   "execution_count": null,
   "id": "1ab1dc26",
   "metadata": {},
   "outputs": [],
   "source": [
    "# Relegated, replaced with the code block above\n",
    "# Importing data from BIN files #\n",
    "\n",
    "#df = main.get_data(\"Alton\", \"june15_2022.BIN\", \"10ms\")\n",
    "#df = main.get_data(\"Alton\", \"june15_2022.BIN\", \"1s\")\n",
    "\n",
    "## Pickling that DF for Later ##\n",
    "\n",
    "#df.to_pickle(\"./data/june15_2022.pkl\")\n",
    "\n",
    "## Unpickling \n",
    "# df_100Hz = pd.read_pickle(\"../data/createv-2022-06-15/june15_2022_100Hz.pkl\")\n",
    "# df_60Hz = pd.read_pickle(\"../data/createv-2022-06-15/june15_2022_60Hz.pkl\")\n",
    "# df_1Hz = pd.read_pickle(\"../data/createv-2022-06-15/june15_2022_1Hz.pkl\")\n",
    "\n",
    "# df = df_1Hz.interpolate(method=\"linear\")"
   ]
  },
  {
   "attachments": {},
   "cell_type": "markdown",
   "id": "ca18265d",
   "metadata": {},
   "source": [
    "## <a id='toc1_4_'></a>[Defining Vehicle Parameters](#toc0_)"
   ]
  },
  {
   "cell_type": "code",
   "execution_count": null,
   "id": "eb1538ed",
   "metadata": {},
   "outputs": [],
   "source": [
    "# Vehicle parameters\n",
    "prop = propellers.aeronaut185x12() # Using aeronaut 20x8 for this flight\n",
    "motor = motors.U7V2_280KV()  # Using U7 V2 motor\n",
    "\n",
    "mass = 12.727 # Estimated with virtual bolt included\n",
    "span = 6.28\n",
    "chord = 0.395\n",
    "createv = airplane(mass, chord, span)\n",
    "\n",
    "P_systems = 4 # Amount of power consumed by everything except the ESC & motor"
   ]
  },
  {
   "attachments": {},
   "cell_type": "markdown",
   "id": "0c140e12",
   "metadata": {},
   "source": [
    "## <a id='toc1_5_'></a>[Manually defining 1 Hz Mask](#toc0_)"
   ]
  },
  {
   "cell_type": "code",
   "execution_count": null,
   "id": "02511de2",
   "metadata": {},
   "outputs": [],
   "source": [
    "### Mask Initialization ###\n",
    "\n",
    "mask = np.array([[9000, 9574],\n",
    "                [9600, 10200],\n",
    "                [10200,10900],\n",
    "                [10900,11500],\n",
    "                [11500,11900],\n",
    "                [12800,13049],\n",
    "                [13057,13350],\n",
    "                [13400,13950],\n",
    "                [14050,14450]])\n",
    "\n",
    "desc_mask = np.array([[3449 , 3497],\n",
    "                    [3687 , 3744],\n",
    "                    [3931 , 3991],\n",
    "                    [4166 , 4231],\n",
    "                    [4419 , 4487],\n",
    "                    [4653 , 4737],\n",
    "                    [4915 , 4988],\n",
    "                    [5159 , 5236],\n",
    "                    [5395 , 5476],\n",
    "                    [5648 , 5741],\n",
    "                    [5922 , 6007],\n",
    "                    [6194 , 6279],\n",
    "                    [6462 , 6550],\n",
    "                    [6743 , 6841],\n",
    "                    [7039 , 7149],\n",
    "                    [7347 , 7458],\n",
    "                    [7672 , 7770],\n",
    "                    [7980 , 8078],\n",
    "                    [8302 , 8423],\n",
    "                    [8586 , 8690]])"
   ]
  },
  {
   "attachments": {},
   "cell_type": "markdown",
   "id": "5e8d48e8",
   "metadata": {},
   "source": [
    "## <a id='toc1_6_'></a>[Main Analysis: $P_{req}$, $C_D$, $C_L$ Datapoints](#toc0_)"
   ]
  },
  {
   "cell_type": "code",
   "execution_count": null,
   "id": "8a6be412",
   "metadata": {},
   "outputs": [],
   "source": [
    "############# Main Analysis ###############3\n",
    "\n",
    "# Attitude \n",
    "phi = np.deg2rad(df[\"RollAngle\"].to_numpy())            # Bank angle in radians\n",
    "pitch = np.deg2rad(df[\"PitchAngle\"].to_numpy())         # Pitch angle in radians\n",
    "\n",
    "# Atmospheric adjustments:\n",
    "rho = df[\"Pressure\"].to_numpy() * (287 * (df[\"Ambient_Temperature\"].to_numpy()+273.15))**-1             # Density found from barometer pressure & airspeed sensor temperatures\n",
    "v_eas = df[\"Airspeed_Sensor0\"].to_numpy()                               # Equivalent SSL airspeed (m/s)\n",
    "v_tas = v_eas * np.sqrt(1.225) * np.sqrt(rho)**-1   # the true airspeed\n",
    "q = 0.5 * rho * v_tas**2                            # Dynamic pressure \n",
    "\n",
    "# For Descent method\n",
    "h = df[\"Altitude_POS\"].to_numpy()                   # Altitude\n",
    "Vd_eas = df[\"DescendingXK\"].to_numpy()                  # Descent Rate from EKF (is it true or EAS at SSL?)\n",
    "Vd_tas = Vd_eas * np.sqrt(1.225) * np.sqrt(rho)**-1   # the true airspeed\n",
    "\n",
    "# Ground speed limiter\n",
    "v_dem = df[\"Airspeed_Demanded\"].to_numpy()\n",
    "\n",
    "# Propulsion characterization\n",
    "n = df[\"MotorRPM\"].to_numpy() / 60                               # Revolutions per second\n",
    "i_esc = df[\"EscCurrent\"].to_numpy()\n",
    "v_esc = df[\"EscVoltage\"].to_numpy()\n",
    "J = v_tas / (n * prop.diameter)\n",
    "eff = prop.efficiency(J) * motor.efficiency(n, i_esc)\n",
    "\n",
    "# Estimated propulsive power (New Fitting)\n",
    "P_eta = cl_finders.eta_steady(prop, motor, v_tas, n, i_esc, v_esc)\n",
    "P_ct = cl_finders.thrust_steady(prop, rho, v_tas, n)\n",
    "P_desc = cl_finders.desc2preq(createv, prop, rho, v_tas, n, q, Vd_tas)\n",
    "\n",
    "# Getting drag coefficient\n",
    "Cd_eta = cl_finders.preq2cd(createv, v_tas, q, P_eta)\n",
    "Cd_ct = cl_finders.preq2cd(createv, v_tas, q, P_ct)\n",
    "Cd_desc = cl_finders.preq2cd(createv, v_tas, q, P_desc)\n",
    "\n",
    "# Getting lift coefficient\n",
    "CL = cl_finders.cl_banked(createv, q, phi)"
   ]
  },
  {
   "attachments": {},
   "cell_type": "markdown",
   "id": "dd4a3002",
   "metadata": {},
   "source": [
    "## <a id='toc1_7_'></a>[Descending Drag Polar Production](#toc0_)\n",
    "### <a id='toc1_7_1_'></a>[Averaging $C_D$, $C_L$, Plotting](#toc0_)"
   ]
  },
  {
   "cell_type": "code",
   "execution_count": null,
   "id": "68e39ea0",
   "metadata": {},
   "outputs": [],
   "source": [
    "# Descending drag polar production\n",
    "CDdesc_ave = np.zeros(len(desc_mask))\n",
    "CLdesc_ave = np.zeros(len(desc_mask))\n",
    "CDdesc_std = np.zeros(len(desc_mask))\n",
    "CLdesc_std = np.zeros(len(desc_mask))\n",
    "\n",
    "EASdesc_ave = np.zeros(len(desc_mask))\n",
    "\n",
    "for i in range(len(desc_mask)):\n",
    "    CDdesc_ave[i] = np.mean(Cd_desc[int(desc_mask[i,0]):int(desc_mask[i,1])])\n",
    "    CLdesc_ave[i] = np.mean(CL[int(desc_mask[i,0]):int(desc_mask[i,1])])\n",
    "    EASdesc_ave[i] = np.mean(v_eas[int(desc_mask[i,0]):int(desc_mask[i,1])])\n",
    "\n",
    "    CDdesc_std[i] = np.std(Cd_desc[int(desc_mask[i,0]):int(desc_mask[i,1])])\n",
    "    CLdesc_std[i] = np.std(CL[int(desc_mask[i,0]):int(desc_mask[i,1])])\n",
    "\n",
    "plt.figure(figsize=(10,5))\n",
    "plt.errorbar(CDdesc_ave, CLdesc_ave, xerr=CDdesc_std, yerr=CLdesc_std, fmt='o', label=\"Descent Method\")\n",
    "plt.xlabel(\"Drag Coefficient\")\n",
    "plt.ylabel(\"Lift Coefficient\")\n",
    "plt.legend()\n",
    "plt.grid(True)\n",
    "plt.show()"
   ]
  },
  {
   "attachments": {},
   "cell_type": "markdown",
   "id": "6c3df21b",
   "metadata": {},
   "source": [
    "### <a id='toc1_7_2_'></a>[Curve fitting polar [cl_finders.cd2polar]](#toc0_)"
   ]
  },
  {
   "cell_type": "code",
   "execution_count": null,
   "id": "d1c6c1f6",
   "metadata": {},
   "outputs": [],
   "source": [
    "polar_desc = cl_finders.cd2polar(createv, CDdesc_ave, CLdesc_ave)\n",
    "polar_desc"
   ]
  },
  {
   "attachments": {},
   "cell_type": "markdown",
   "id": "e679ecc1",
   "metadata": {},
   "source": [
    "### <a id='toc1_7_3_'></a>[Standardized $P_{required}$ [cl_finders.polar2preqew]](#toc0_)"
   ]
  },
  {
   "cell_type": "code",
   "execution_count": null,
   "id": "6993331c",
   "metadata": {},
   "outputs": [],
   "source": [
    "Peq_desc, EAS = cl_finders.polar2preqew(createv, polar_desc, (7,14))"
   ]
  },
  {
   "attachments": {},
   "cell_type": "markdown",
   "id": "e6ed02a6",
   "metadata": {},
   "source": [
    "## <a id='toc1_8_'></a>[Cruising Drag Polar Production](#toc0_)"
   ]
  },
  {
   "cell_type": "code",
   "execution_count": null,
   "id": "47ec3f31",
   "metadata": {},
   "outputs": [],
   "source": [
    "# Plotting Raw Polar Results + Raw Power Results\n",
    "rawpolar_rawpower = plt.figure(figsize=(10,5))\n",
    "ax0 = plt.subplot(1,2,1)\n",
    "ax1 = plt.subplot(1,2,2)\n",
    "\n",
    "ax0.set_title(\"Manually Masked Raw Polar\")\n",
    "markers = ['^', 'o', '<', '>', '*', 's', 'v', 'P', 'X', 'D', 'H']\n",
    "for i in range(len(mask)):\n",
    "    ax0.plot(Cd_eta[int(mask[i,0]):int(mask[i,1])], CL[int(mask[i,0]):int(mask[i,1])], linestyle='', marker=markers[i], markerfacecolor='r', markersize=4, markeredgecolor=[0,0,0])\n",
    "    ax0.plot(Cd_ct[int(mask[i,0]):int(mask[i,1])], CL[int(mask[i,0]):int(mask[i,1])], linestyle='', marker=markers[i], markerfacecolor='b', markersize=4, markeredgecolor=[0,0,0])\n",
    "ax0.set_ylabel(\"Lift Coefficient\")\n",
    "ax0.set_xlabel(\"Drag Coefficient\")\n",
    "ax0.legend(['$\\eta$ Method', '$C_T$ Method'])\n",
    "\n",
    "ax1.set_title(\"Manually Masked Raw Power Required\")\n",
    "for i in range(len(mask)):\n",
    "    ax1.plot(v_tas[int(mask[i,0]):int(mask[i,1])], P_eta[int(mask[i,0]):int(mask[i,1])], label=\"Index: \"+str(i), linestyle='', marker=markers[i], markerfacecolor='r', markersize=4, markeredgecolor=[0,0,0])\n",
    "    ax1.plot(v_tas[int(mask[i,0]):int(mask[i,1])], P_ct[int(mask[i,0]):int(mask[i,1])], linestyle='', marker=markers[i], markerfacecolor='b', markersize=4, markeredgecolor=[0,0,0])\n",
    "ax1.set_xlabel(\"True Airspeed (m/s)\")\n",
    "ax1.set_ylabel(\"Propulsive Power (W)\")\n",
    "ax1.legend()\n",
    "plt.show()\n",
    "\n",
    "main.save_figure(rawpolar_rawpower, f'{rawpolar_rawpower=}'.split('=')[0], figure_path)"
   ]
  },
  {
   "attachments": {},
   "cell_type": "markdown",
   "id": "f3ae7f54",
   "metadata": {},
   "source": [
    "### <a id='toc1_8_1_'></a>[Averaging $C_D$, $C_L$, Plotting](#toc0_)"
   ]
  },
  {
   "cell_type": "code",
   "execution_count": null,
   "id": "500ed37f",
   "metadata": {},
   "outputs": [],
   "source": [
    "# Cruising averaging\n",
    "CDct_ave = np.zeros(len(mask))\n",
    "CDeta_ave = np.zeros(len(mask))\n",
    "\n",
    "CL_ave = np.zeros(len(mask))\n",
    "EAS_ave = np.zeros(len(mask))\n",
    "\n",
    "pitch_ave = np.zeros(len(mask))\n",
    "\n",
    "CDct_std = np.zeros(len(mask))\n",
    "CDeta_std = np.zeros(len(mask))\n",
    "CL_std = np.zeros(len(mask))\n",
    "\n",
    "for i in range(len(mask)):\n",
    "    \n",
    "    CDeta_ave[i] = np.mean(Cd_eta[int(mask[i,0]):int(mask[i,1])])\n",
    "    CDct_ave[i] = np.mean(Cd_ct[int(mask[i,0]):int(mask[i,1])])\n",
    "    CL_ave[i] = np.mean(CL[int(mask[i,0]):int(mask[i,1])])\n",
    "    EAS_ave[i] = np.mean(v_eas[int(mask[i,0]):int(mask[i,1])])\n",
    "    pitch_ave[i] = np.mean(pitch[int(mask[i,0]):int(mask[i,1])])\n",
    "    \n",
    "    CDeta_std[i] = np.std(Cd_eta[int(mask[i,0]):int(mask[i,1])])\n",
    "    CDct_std[i] = np.std(Cd_ct[int(mask[i,0]):int(mask[i,1])])\n",
    "    CL_std[i] = np.std(CL[int(mask[i,0]):int(mask[i,1])])"
   ]
  },
  {
   "attachments": {},
   "cell_type": "markdown",
   "id": "da9b6c9d",
   "metadata": {},
   "source": [
    "### <a id='toc1_8_2_'></a>[Curve fitting Polar [cl_finders.cd2polar]](#toc0_)"
   ]
  },
  {
   "cell_type": "code",
   "execution_count": null,
   "id": "6ce18039",
   "metadata": {},
   "outputs": [],
   "source": [
    "# Finding drag polar:\n",
    "polar_eta = cl_finders.cd2polar(createv, CDeta_ave, CL_ave)\n",
    "polar_ct = cl_finders.cd2polar(createv, CDct_ave, CL_ave)"
   ]
  },
  {
   "attachments": {},
   "cell_type": "markdown",
   "id": "a56a803d",
   "metadata": {},
   "source": [
    "### <a id='toc1_8_3_'></a>[Standardized $P_{req}$](#toc0_)"
   ]
  },
  {
   "cell_type": "code",
   "execution_count": null,
   "id": "451e0166",
   "metadata": {},
   "outputs": [],
   "source": [
    "# Finding power required @ SSL @ Standard weight of 12.6 kg\n",
    "Peq_eta, EAS = cl_finders.polar2preqew(createv, polar_eta, (8,14))\n",
    "Peq_ct, EAS = cl_finders.polar2preqew(createv, polar_ct, (8,14))"
   ]
  },
  {
   "attachments": {},
   "cell_type": "markdown",
   "id": "3f15e4e4",
   "metadata": {},
   "source": [
    "## <a id='toc1_9_'></a>[Results Summary (Cruising \\& Descending)](#toc0_)\n",
    "\n",
    "### <a id='toc1_9_1_'></a>[Getting Angle of Attack vs $C_L$ Correlation](#toc0_)"
   ]
  },
  {
   "cell_type": "code",
   "execution_count": null,
   "id": "548a70f0",
   "metadata": {},
   "outputs": [],
   "source": [
    "# Finding AOA correlation to Coefficient of Lift:\n",
    "CL_alpha = cl_finders.angleModel(CL_ave, pitch_ave, \"linear\")"
   ]
  },
  {
   "attachments": {},
   "cell_type": "markdown",
   "id": "78b6b8b3",
   "metadata": {},
   "source": [
    "### <a id='toc1_9_2_'></a>[Exporting Aerodynamic model of Vehicle](#toc0_)"
   ]
  },
  {
   "cell_type": "code",
   "execution_count": null,
   "id": "a95ce645",
   "metadata": {},
   "outputs": [],
   "source": [
    "# Exporting aerodynamic model of vehicle (C_T)\n",
    "EAS_model, CL_model, CD_model, AoA_model = cl_finders.basicModel(createv, polar_ct, CL_alpha, (8,14))\n",
    "export = np.transpose(np.vstack((EAS_model, CD_model, CL_model, AoA_model)))\n",
    "tmp =  {'data': export}\n",
    "scipy.io.savemat('simpleModel.mat', {'data': export})\n",
    "\n",
    "cl_alpha_fitting = plt.figure(figsize=(10,5))\n",
    "plt.plot(AoA_model, CL_model, label='Fitted Result')\n",
    "plt.plot(np.rad2deg(pitch_ave), CL_ave, linestyle='None', marker='o', label='Actual Data')\n",
    "plt.legend()\n",
    "plt.xlabel(\"Angle of Attack (Degrees)\")\n",
    "plt.ylabel(\"Lift Coefficient\")\n",
    "plt.grid(True)\n",
    "plt.show()\n",
    "\n",
    "main.save_figure(cl_alpha_fitting, f'{cl_alpha_fitting=}'.split('=')[0], figure_path)"
   ]
  },
  {
   "attachments": {},
   "cell_type": "markdown",
   "id": "59a6898a",
   "metadata": {},
   "source": [
    "### <a id='toc1_9_3_'></a>[Plotting $P_{req}$ vs. EAS Raw and Fitted Results](#toc0_)"
   ]
  },
  {
   "cell_type": "code",
   "execution_count": null,
   "id": "c82988bd",
   "metadata": {},
   "outputs": [],
   "source": [
    "# Plotting P_req vs EAS, Descending and Cruising Results\n",
    "preq_EAS_raw_fitted = plt.figure(figsize=(7,5))\n",
    "plt.plot(EAS, Peq_ct, label=\"Thrust Coefficient Method\", color='green', linestyle='--', marker='')\n",
    "plt.plot(EAS, Peq_eta, label=\"Eta Coefficient Method\", color='purple', linestyle='--', marker='')\n",
    "plt.plot(EAS, Peq_desc, label=\"Descending Method\", color='orange', linestyle='--', marker='')\n",
    "plt.plot(EAS_ave, CDct_ave * 0.5 * 1.225 * EAS_ave**3 * createv.area, linestyle='', marker='^', color='green', markeredgecolor=[0,0,0], label='CT Method Points')\n",
    "plt.plot(EAS_ave, CDeta_ave * 0.5 * 1.225 * EAS_ave**3 * createv.area, linestyle='', marker='^', color='purple', markeredgecolor=[0,0,0], label='Eta Method Points')\n",
    "plt.plot(EASdesc_ave, CDdesc_ave * 0.5 * 1.225 * EASdesc_ave**3 * createv.area, linestyle='', color='orange', marker='^', markeredgecolor=[0,0,0], label='Descending Method')\n",
    "plt.xlabel(\"Airspeed (Standard Sea-Level)\")\n",
    "plt.ylabel(\"Power Required at Standard Mass (12.6 KG)\")\n",
    "plt.ylim([0, 120])\n",
    "plt.legend()\n",
    "plt.show()\n",
    "main.save_figure(preq_EAS_raw_fitted, f'{preq_EAS_raw_fitted=}'.split('=')[0], figure_path)"
   ]
  },
  {
   "attachments": {},
   "cell_type": "markdown",
   "id": "d02f3f40",
   "metadata": {},
   "source": [
    "### <a id='toc1_9_4_'></a>[Plotting C_L vs C_D, Descending and Cruising Results](#toc0_)"
   ]
  },
  {
   "cell_type": "code",
   "execution_count": null,
   "id": "ced5ea97",
   "metadata": {},
   "outputs": [],
   "source": [
    "# Plotting C_L vs C_D, Descending and Cruising Results\n",
    "polar_rawerrorbar = plt.figure(figsize=(10.6,6.5), dpi=100)\n",
    "plt.errorbar(CDeta_ave, CL_ave, xerr=CDeta_std, yerr=CL_std, fmt='^', label=\"Eta Method\", markeredgecolor=[0,0,0])\n",
    "plt.errorbar(CDct_ave, CL_ave, xerr=CDct_std, yerr=CL_std, fmt='s', label=\"CT Method\", markeredgecolor=[0,0,0])\n",
    "plt.errorbar(CDdesc_ave, CLdesc_ave, xerr=CDdesc_std, yerr=CLdesc_std, fmt='o', label = \"Descending Method\", markeredgecolor=[0,0,0])\n",
    "plt.xlabel(\"Drag Coefficient\")\n",
    "plt.ylabel(\"Lift Coefficient\")\n",
    "plt.legend()\n",
    "plt.show()\n",
    "\n",
    "main.save_figure(polar_rawerrorbar, f'{polar_rawerrorbar=}'.split('=')[0], figure_path)"
   ]
  },
  {
   "attachments": {},
   "cell_type": "markdown",
   "id": "a6ed1a14",
   "metadata": {},
   "source": [
    "## <a id='toc1_10_'></a>[Time Indexed Plots](#toc0_)\n",
    "\n",
    "### <a id='toc1_10_1_'></a>[Plotting Time Indexed data - Demanded vs True Airspeed \\& Motor RPM](#toc0_)"
   ]
  },
  {
   "cell_type": "code",
   "execution_count": null,
   "id": "4e55bdae",
   "metadata": {},
   "outputs": [],
   "source": [
    "# Plotting time indexed flight data\n",
    "# Plotting true airspeed, with demanded airspeed\n",
    "timeindexed_airspeed_motorrpm = plt.figure(figsize=(10,5))\n",
    "ax1 = plt.subplot(2,1,1)\n",
    "ax1.plot(df.index, v_tas, label=\"Airspeed\", marker='o', markeredgecolor=[0,0,0], markersize=3, markeredgewidth=0.1)\n",
    "ax1.plot(df.index, v_dem, label=\"Demanded Airspeed\", marker='^', markeredgecolor=[0,0,0], markersize=3)\n",
    "for i in range(len(mask)):\n",
    "    segment = np.arange(mask[i,0],mask[i,1])\n",
    "    ax1.plot(df.index[segment], np.ones(len(segment)), marker='v')\n",
    "ax1.set_ylabel(\"Airspeeds (m/s)\")\n",
    "plt.legend()\n",
    "\n",
    "ax2 = plt.subplot(2,1,2, sharex=ax1)\n",
    "ax2.plot(df.index, n, label='ESC Measurement')\n",
    "ax2.set_ylabel(\"Motor Rotation Rate (rev/s)\")\n",
    "plt.legend()\n",
    "\n",
    "plt.show()\n",
    "main.save_figure(timeindexed_airspeed_motorrpm, f'{timeindexed_airspeed_motorrpm=}'.split('=')[0], figure_path)"
   ]
  },
  {
   "attachments": {},
   "cell_type": "markdown",
   "id": "1142ef8e",
   "metadata": {},
   "source": [
    "### <a id='toc1_10_2_'></a>[Plotting motor RPM over the selected time intervals](#toc0_)"
   ]
  },
  {
   "cell_type": "code",
   "execution_count": null,
   "id": "caf197f8",
   "metadata": {},
   "outputs": [],
   "source": [
    "time_motorrpm_seghighlight = plt.figure(figsize=(10,5))\n",
    "plt.plot(n)\n",
    "plt.plot(np.transpose(np.where(n == 0)), n[n == 0], linestyle='None', marker='o', label='RPM=0')\n",
    "for i in range(len(mask)):\n",
    "    segment = np.arange(mask[i,0],mask[i,1])\n",
    "    plt.plot(segment, np.ones(len(segment)), marker='v')\n",
    "plt.grid(True)\n",
    "plt.ylabel(\"Motor Revolutions per Second\")\n",
    "main.save_figure(time_motorrpm_seghighlight, f'{time_motorrpm_seghighlight=}'.split('=')[0], figure_path)"
   ]
  },
  {
   "attachments": {},
   "cell_type": "markdown",
   "id": "14ea448c",
   "metadata": {},
   "source": [
    "Above plot showing motor rev/s vs time in seconds.  Orange points represent the times where rev/s reads zero.  Coloured V's represent the cruising segments that are being used for the data reduction.  This is used to visualize where we can get good data from, if n is zero during cruise this needs to be excluded.  "
   ]
  },
  {
   "attachments": {},
   "cell_type": "markdown",
   "id": "23a3ec18",
   "metadata": {},
   "source": [
    "### <a id='toc1_10_3_'></a>[Plotting J to see where data needs exclusion](#toc0_)"
   ]
  },
  {
   "cell_type": "code",
   "execution_count": null,
   "id": "e8baa728",
   "metadata": {},
   "outputs": [],
   "source": [
    "time_advanceratio = plt.figure(figsize=(10,5))\n",
    "plt.plot(J)\n",
    "plt.plot(np.transpose(np.where(n == 0)), J[n == 0], linestyle='None', marker='o')\n",
    "for i in range(len(mask)):\n",
    "    segment = np.arange(mask[i,0],mask[i,1])\n",
    "    plt.plot(segment, np.ones(len(segment)), marker='v')\n",
    "plt.grid(True)\n",
    "plt.ylabel(\"Advance Ratio\")\n",
    "plt.show()\n",
    "main.save_figure(time_advanceratio, f'{time_advanceratio=}'.split('=')[0], figure_path)"
   ]
  },
  {
   "attachments": {},
   "cell_type": "markdown",
   "id": "5add67e0",
   "metadata": {},
   "source": [
    "Data needs exclusion around 9570, since the J is going high due to the n going to zero.  \n",
    "Data needs exclusion around 13045. "
   ]
  },
  {
   "attachments": {},
   "cell_type": "markdown",
   "id": "1f3e9deb",
   "metadata": {},
   "source": [
    "### <a id='toc1_10_4_'></a>[Plotting System Efficiency](#toc0_)"
   ]
  },
  {
   "cell_type": "code",
   "execution_count": null,
   "id": "c1bcb495",
   "metadata": {},
   "outputs": [],
   "source": [
    "time_sysefficiency = plt.figure(figsize=(10,5))\n",
    "plt.plot(eff)\n",
    "plt.plot(np.transpose(np.where(n == 0)), eff[n == 0], linestyle='None', marker='o')\n",
    "for i in range(len(mask)):\n",
    "    segment = np.arange(mask[i,0],mask[i,1])\n",
    "    plt.plot(segment, np.ones(len(segment)), marker='v')\n",
    "plt.grid(True)\n",
    "plt.ylabel(\"Expected Efficiency (System)\")\n",
    "plt.show()\n",
    "main.save_figure(time_sysefficiency, f'{time_sysefficiency=}'.split('=')[0], figure_path)"
   ]
  },
  {
   "attachments": {},
   "cell_type": "markdown",
   "id": "9e7a3aca",
   "metadata": {},
   "source": [
    "Efficiency goes to infinity anytime the RPM goes low or to zero.  Same points identified earlier are a problem and need to be excluded for the $\\eta$ method"
   ]
  },
  {
   "attachments": {},
   "cell_type": "markdown",
   "id": "53256afb",
   "metadata": {},
   "source": [
    "### <a id='toc1_10_5_'></a>[Plotting Descent Rates, Zero RPM highlighted](#toc0_)"
   ]
  },
  {
   "cell_type": "code",
   "execution_count": null,
   "id": "0c03cb87",
   "metadata": {},
   "outputs": [],
   "source": [
    "time_descrate_seghighlight = plt.figure(figsize=(10,5))\n",
    "plt.plot(Vd_tas)\n",
    "plt.plot(np.transpose(np.where(n == 0)), Vd_tas[n == 0], linestyle='None', marker='o', label=\"RPM is zero\")\n",
    "for i in range(len(desc_mask)):\n",
    "    segment = np.arange(desc_mask[i,0],desc_mask[i,1])\n",
    "    plt.plot(segment, np.ones(len(segment)), marker='v')\n",
    "plt.grid(True)\n",
    "plt.ylabel(\"Descent Rate (m/s)\")\n",
    "plt.legend()\n",
    "plt.show()\n",
    "main.save_figure(time_descrate_seghighlight, f'{time_descrate_seghighlight=}'.split('=')[0], figure_path)"
   ]
  },
  {
   "attachments": {},
   "cell_type": "markdown",
   "id": "17fe3f7b",
   "metadata": {},
   "source": [
    "### <a id='toc1_10_6_'></a>[Pitch and Coefficient of Lift Time Plots](#toc0_)"
   ]
  },
  {
   "cell_type": "code",
   "execution_count": null,
   "id": "20831361",
   "metadata": {},
   "outputs": [],
   "source": [
    "# Pitch and $C_L$ vs. Time (s)\n",
    "time_pitch_CL = plt.figure(figsize=(7,5))\n",
    "ax1 = plt.subplot(2,1,1)\n",
    "ax1.plot(np.rad2deg(pitch))\n",
    "for i in range(len(mask)):\n",
    "    segment = np.arange(mask[i,0],mask[i,1])\n",
    "    ax1.plot(segment, np.zeros(len(segment)), marker='v')\n",
    "ax1.grid(True)\n",
    "ax1.set_ylabel(\"Pitch Angle (deg)\")\n",
    "\n",
    "ax2 = plt.subplot(2,1,2, sharex=ax1)\n",
    "ax2.plot(CL)\n",
    "ax2.set_ylim([-1,2])\n",
    "ax2.set_ylabel(\"Coefficient of Lift\")\n",
    "\n",
    "plt.show()\n",
    "main.save_figure(time_pitch_CL, f'{time_pitch_CL=}'.split('=')[0], figure_path)"
   ]
  },
  {
   "cell_type": "code",
   "execution_count": null,
   "id": "cd489cf1",
   "metadata": {},
   "outputs": [],
   "source": [
    "# Exporting workspace\n",
    "import dill\n",
    "location = result_path + 'workspace.pkl'\n",
    "dill.dump_session(location)\n",
    "\n",
    "# Exporting raw polar data\n",
    "\n",
    "# Exporting averaged raw polar data\n",
    "\n",
    "# Exporting fitted polar data"
   ]
  }
 ],
 "metadata": {
  "kernelspec": {
   "display_name": "Python 3.10.4 ('superwake-records')",
   "language": "python",
   "name": "python3"
  },
  "language_info": {
   "codemirror_mode": {
    "name": "ipython",
    "version": 3
   },
   "file_extension": ".py",
   "mimetype": "text/x-python",
   "name": "python",
   "nbconvert_exporter": "python",
   "pygments_lexer": "ipython3",
   "version": "3.10.4"
  },
  "toc-autonumbering": false,
  "toc-showmarkdowntxt": false,
  "vscode": {
   "interpreter": {
    "hash": "c9cddf852242832967bb2f59795ae071090fb5257b7f5bb34218ff6533d42673"
   }
  }
 },
 "nbformat": 4,
 "nbformat_minor": 5
}
