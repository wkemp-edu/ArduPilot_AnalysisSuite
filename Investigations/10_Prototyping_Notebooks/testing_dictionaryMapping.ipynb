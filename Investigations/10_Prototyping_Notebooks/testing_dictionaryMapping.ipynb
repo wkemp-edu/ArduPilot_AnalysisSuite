{
 "cells": [
  {
   "cell_type": "code",
   "execution_count": 1,
   "metadata": {},
   "outputs": [],
   "source": [
    "data_map = {\n",
    "            # Attitude Variables\n",
    "            \"RollAngle\"     :\"Phi\", \n",
    "            \"PitchAngle\"    :\"Theta\",\n",
    "            \"HeadingAngle\"  :\"Psi\",\n",
    "            # Acceleration Variables \n",
    "            \n",
    "            # Rotation Rate Variables\n",
    "\n",
    "            # Velocity Variables\n",
    "\n",
    "            # Drivetrain Variables\n",
    "            \"MotorRPM\":\"MotorRPM\"\n",
    "            }"
   ]
  },
  {
   "cell_type": "code",
   "execution_count": 5,
   "metadata": {},
   "outputs": [
    {
     "ename": "KeyError",
     "evalue": "'Phi'",
     "output_type": "error",
     "traceback": [
      "\u001b[0;31m---------------------------------------------------------------------------\u001b[0m",
      "\u001b[0;31mKeyError\u001b[0m                                  Traceback (most recent call last)",
      "\u001b[1;32m/Users/williamkemp/Records/Repositories/CREATeV_AnalysisSuite/Investigations/Prototyping_Notebooks/testing_dictionaryMapping.ipynb Cell 2\u001b[0m line \u001b[0;36m<cell line: 1>\u001b[0;34m()\u001b[0m\n\u001b[0;32m----> <a href='vscode-notebook-cell:/Users/williamkemp/Records/Repositories/CREATeV_AnalysisSuite/Investigations/Prototyping_Notebooks/testing_dictionaryMapping.ipynb#W1sZmlsZQ%3D%3D?line=0'>1</a>\u001b[0m data_map[\u001b[39m\"\u001b[39;49m\u001b[39mPhi\u001b[39;49m\u001b[39m\"\u001b[39;49m]\n",
      "\u001b[0;31mKeyError\u001b[0m: 'Phi'"
     ]
    }
   ],
   "source": [
    "data_map[\"Phi\"]"
   ]
  },
  {
   "cell_type": "code",
   "execution_count": null,
   "metadata": {},
   "outputs": [],
   "source": []
  }
 ],
 "metadata": {
  "kernelspec": {
   "display_name": "superwake-records",
   "language": "python",
   "name": "python3"
  },
  "language_info": {
   "codemirror_mode": {
    "name": "ipython",
    "version": 3
   },
   "file_extension": ".py",
   "mimetype": "text/x-python",
   "name": "python",
   "nbconvert_exporter": "python",
   "pygments_lexer": "ipython3",
   "version": "3.10.4"
  },
  "orig_nbformat": 4
 },
 "nbformat": 4,
 "nbformat_minor": 2
}
