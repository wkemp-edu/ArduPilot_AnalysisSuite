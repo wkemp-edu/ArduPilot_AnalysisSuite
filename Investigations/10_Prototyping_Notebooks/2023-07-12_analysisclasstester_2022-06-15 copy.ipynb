{
 "cells": [
  {
   "cell_type": "markdown",
   "metadata": {},
   "source": [
    "# Testing Analysis Class (2023-07-12)\n",
    "\n",
    "Purpose:\n",
    "Testing analysis class as it is being built"
   ]
  },
  {
   "cell_type": "markdown",
   "metadata": {},
   "source": [
    "## Setting up Analysis Environment\n",
    "* Importing libraries and functions\n",
    "* Creating results, figures, folders\n",
    "* Importing the data and storing it within data folder"
   ]
  },
  {
   "cell_type": "code",
   "execution_count": 1,
   "metadata": {},
   "outputs": [],
   "source": [
    "### Defining name of analysis ###\n",
    "data_folder = 'createv-2022-06-15'\n",
    "file_name = 'june15_2022.BIN'"
   ]
  },
  {
   "cell_type": "code",
   "execution_count": 2,
   "metadata": {},
   "outputs": [],
   "source": [
    "from os import sys\n",
    "import os\n",
    "%matplotlib widget\n",
    "from matplotlib import pyplot as plt\n",
    "sys.path.append('../')\n",
    "from analysis import analysis\n",
    "from aircraft import airplane"
   ]
  },
  {
   "cell_type": "code",
   "execution_count": 3,
   "metadata": {},
   "outputs": [],
   "source": [
    "investigation = analysis('2023-07-12_analysisclasstester_2022-06-15', data_folder, file_name)\n",
    "investigation.load_data('10ms', 'linear', 'CREATeV_2022')"
   ]
  },
  {
   "cell_type": "code",
   "execution_count": 4,
   "metadata": {},
   "outputs": [],
   "source": [
    "investigation.define_propeller('aeronaut20x8')\n",
    "investigation.define_motor('U7V2_280KV')\n",
    "\n",
    "mass = 12.3 # Estimated with virtual bolt included\n",
    "span = 6.28\n",
    "chord = 0.395\n",
    "createv = airplane(mass, chord, span)\n",
    "\n",
    "investigation.define_airframe(createv)"
   ]
  }
 ],
 "metadata": {
  "kernelspec": {
   "display_name": "superwake-records",
   "language": "python",
   "name": "python3"
  },
  "language_info": {
   "codemirror_mode": {
    "name": "ipython",
    "version": 3
   },
   "file_extension": ".py",
   "mimetype": "text/x-python",
   "name": "python",
   "nbconvert_exporter": "python",
   "pygments_lexer": "ipython3",
   "version": "3.10.4"
  },
  "orig_nbformat": 4
 },
 "nbformat": 4,
 "nbformat_minor": 2
}
