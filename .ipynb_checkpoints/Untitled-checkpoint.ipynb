{
 "cells": [
  {
   "cell_type": "markdown",
   "id": "662290c6-4ff5-49c5-a66a-cfc5c7f3fb5c",
   "metadata": {},
   "source": [
    "# Statistical Analysis of CREATeV 32 Hour Flight\n",
    "\n",
    "Goal: \n",
    "1. determine the breakdown of the flight into segments\n",
    "    2. Location\n",
    "        3. Longitude, latitude\n",
    "        4. Altitude\n",
    "    5. Altitude\n",
    "    6. Airspeed\n",
    "        7. Below or above some threshold\n",
    "    8. Pitch \n",
    "    9. Vertical Climb\n",
    "    \n"
   ]
  }
 ],
 "metadata": {
  "kernelspec": {
   "display_name": "Python 3",
   "language": "python",
   "name": "python3"
  },
  "language_info": {
   "codemirror_mode": {
    "name": "ipython",
    "version": 3
   },
   "file_extension": ".py",
   "mimetype": "text/x-python",
   "name": "python",
   "nbconvert_exporter": "python",
   "pygments_lexer": "ipython3",
   "version": "3.8.8"
  }
 },
 "nbformat": 4,
 "nbformat_minor": 5
}
