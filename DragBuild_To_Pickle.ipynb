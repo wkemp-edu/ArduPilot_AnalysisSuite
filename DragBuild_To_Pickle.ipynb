{
 "cells": [
  {
   "cell_type": "code",
   "execution_count": 1,
   "metadata": {},
   "outputs": [],
   "source": [
    "import pandas\n",
    "import openpyxl\n",
    "from matplotlib import pyplot as plt\n",
    "\n",
    "# createv_lambuild = pandas.read_excel(r\"DragBuilds/CREATeV_DragBuildLaminar.xlsx\")\n",
    "# createv_turbbuild = pandas.read_excel(r\"DragBuilds/CREATeV_DragBuildTurbulent.xlsx\")\n",
    "createv_freebuild_fixed = pandas.read_excel(r\"DragBuilds/CREATeV_DragBuild_FreeWake_Fixed.xlsx\")\n",
    "\n",
    "# pandas.to_pickle(createv_lambuild, \"DragBuilds/CREATeV_DragBuildLaminar.pkl\")\n",
    "# pandas.to_pickle(createv_turbbuild, \"DragBuilds/CREATeV_DragBuildTurbulent.pkl\")\n",
    "pandas.to_pickle(createv_freebuild_fixed, \"DragBuilds/CREATeV_DragBuild_FreeWake_Fixed.pkl\")\n"
   ]
  }
 ],
 "metadata": {
  "kernelspec": {
   "display_name": "superwake-records",
   "language": "python",
   "name": "python3"
  },
  "language_info": {
   "codemirror_mode": {
    "name": "ipython",
    "version": 3
   },
   "file_extension": ".py",
   "mimetype": "text/x-python",
   "name": "python",
   "nbconvert_exporter": "python",
   "pygments_lexer": "ipython3",
   "version": "3.8.8"
  },
  "orig_nbformat": 4
 },
 "nbformat": 4,
 "nbformat_minor": 2
}
