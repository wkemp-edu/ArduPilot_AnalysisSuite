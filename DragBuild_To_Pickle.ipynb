{
 "cells": [
  {
   "cell_type": "code",
   "execution_count": 6,
   "metadata": {},
   "outputs": [],
   "source": [
    "import pandas\n",
    "import openpyxl\n",
    "from matplotlib import pyplot as plt\n",
    "\n",
    "createv_lambuild = pandas.read_excel(r\"DragBuilds/Linus_DragBuildLaminar.xlsx\")\n",
    "createv_turbbuild = pandas.read_excel(r\"DragBuilds/Linus_DragBuildTurbulent.xlsx\")\n",
    "\n",
    "pandas.to_pickle(createv_lambuild, \"DragBuilds/Linus_DragBuildLaminar.pkl\")\n",
    "pandas.to_pickle(createv_turbbuild, \"DragBuilds/Linus_DragBuildTurbulent.pkl\")"
   ]
  }
 ],
 "metadata": {
  "kernelspec": {
   "display_name": "superwake-records",
   "language": "python",
   "name": "python3"
  },
  "language_info": {
   "codemirror_mode": {
    "name": "ipython",
    "version": 3
   },
   "file_extension": ".py",
   "mimetype": "text/x-python",
   "name": "python",
   "nbconvert_exporter": "python",
   "pygments_lexer": "ipython3",
   "version": "3.8.8"
  },
  "orig_nbformat": 4
 },
 "nbformat": 4,
 "nbformat_minor": 2
}
