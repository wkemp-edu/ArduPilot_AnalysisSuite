{
 "cells": [
  {
   "cell_type": "markdown",
   "id": "662290c6-4ff5-49c5-a66a-cfc5c7f3fb5c",
   "metadata": {},
   "source": [
    "# Analysis of August 4th 2021 Flight\n",
    "\n",
    "Goal: \n",
    "1. Import the data one time\n",
    "2. Plot in modifiable windows\n",
    "3. Do basic analysis with static mask\n",
    "4. Show results in pretty plots"
   ]
  },
  {
   "cell_type": "code",
   "execution_count": 38,
   "id": "02db9cc9-f81a-4fd9-8519-cbcc9738d99d",
   "metadata": {},
   "outputs": [],
   "source": [
    "%matplotlib widget\n",
    "\n",
    "from matplotlib import pyplot as plt\n",
    "import numpy as np\n",
    "\n",
    "import main\n",
    "from main import flight\n",
    "from main import analysis\n",
    "import propellers\n",
    "import motors\n",
    "import aircraft"
   ]
  },
  {
   "cell_type": "code",
   "execution_count": 2,
   "id": "fc58f470-3182-4671-b64c-96b0da39cd1f",
   "metadata": {},
   "outputs": [
    {
     "name": "stderr",
     "output_type": "stream",
     "text": [
      "Recording    - INFO     - Loading recording file using reader: ArdupilotDFReader and processor: Createv2021Dataflash\n",
      "ArdupilotDFReader - INFO     - Begin processing /Users/williamkemp/Records/Repositories/CREATeV_power/data/august04_2021.BIN\n",
      "ArdupilotDFReader - INFO     - GPS time found on channel=GPS, instance=None\n",
      "ArdupilotDFReader - INFO     - 2021-08-04 09:44:12.200000 at board time = 1970-01-01 00:38:54.212432\n"
     ]
    }
   ],
   "source": [
    "data = main.get_data(\"Alton\", \"august04_2021.BIN\")"
   ]
  },
  {
   "cell_type": "code",
   "execution_count": 40,
   "id": "e8eccc88",
   "metadata": {},
   "outputs": [
    {
     "ename": "NameError",
     "evalue": "name 'aeronaut20x8' is not defined",
     "output_type": "error",
     "traceback": [
      "\u001b[0;31m---------------------------------------------------------------------------\u001b[0m",
      "\u001b[0;31mNameError\u001b[0m                                 Traceback (most recent call last)",
      "\u001b[1;32m/Users/williamkemp/Records/Repositories/CREATeV_AnalysisSuite/August8thAnalysis.ipynb Cell 4\u001b[0m in \u001b[0;36m<cell line: 3>\u001b[0;34m()\u001b[0m\n\u001b[1;32m      <a href='vscode-notebook-cell:/Users/williamkemp/Records/Repositories/CREATeV_AnalysisSuite/August8thAnalysis.ipynb#W3sZmlsZQ%3D%3D?line=0'>1</a>\u001b[0m \u001b[39m# Vehicle parameters\u001b[39;00m\n\u001b[0;32m----> <a href='vscode-notebook-cell:/Users/williamkemp/Records/Repositories/CREATeV_AnalysisSuite/August8thAnalysis.ipynb#W3sZmlsZQ%3D%3D?line=2'>3</a>\u001b[0m prop \u001b[39m=\u001b[39m aeronaut20x8() \u001b[39m# Using aeronaut 20x8 for this flight\u001b[39;00m\n\u001b[1;32m      <a href='vscode-notebook-cell:/Users/williamkemp/Records/Repositories/CREATeV_AnalysisSuite/August8thAnalysis.ipynb#W3sZmlsZQ%3D%3D?line=3'>4</a>\u001b[0m motor \u001b[39m=\u001b[39m U7V2_280KV()  \u001b[39m# Using U7 V2 motor\u001b[39;00m\n\u001b[1;32m      <a href='vscode-notebook-cell:/Users/williamkemp/Records/Repositories/CREATeV_AnalysisSuite/August8thAnalysis.ipynb#W3sZmlsZQ%3D%3D?line=5'>6</a>\u001b[0m mass \u001b[39m=\u001b[39m \u001b[39m12.6\u001b[39m \u001b[39m# Estimated with virtual bolt included\u001b[39;00m\n",
      "\u001b[0;31mNameError\u001b[0m: name 'aeronaut20x8' is not defined"
     ]
    }
   ],
   "source": [
    "# Vehicle parameters\n",
    "\n",
    "prop = aeronaut20x8() # Using aeronaut 20x8 for this flight\n",
    "motor = U7V2_280KV()  # Using U7 V2 motor\n",
    "\n",
    "mass = 12.61797 # Estimated with virtual bolt included\n",
    "span = 6.28\n",
    "chord = 0.395\n",
    "createv = airplane(mass, chord, span)"
   ]
  },
  {
   "cell_type": "code",
   "execution_count": 39,
   "id": "11854047",
   "metadata": {},
   "outputs": [],
   "source": [
    "# Mask Initialization\n",
    "mask = np.array([[1.570e5,1.665e5],\n",
    "                [1.668e5,1.782e5],\n",
    "                [1.794e5,1.904e5],\n",
    "                [1.916e5,2.075e5],\n",
    "                [2.087e5,2.166e5],\n",
    "                [2.168e5,2.369e5],\n",
    "                [2.381e5,2.486e5],\n",
    "                [2.490e5,2.607e5],\n",
    "                [2.619e5,2.671e5],\n",
    "                [2.679e5,2.784e5],\n",
    "                [2.800e5,3.444e5]])"
   ]
  },
  {
   "cell_type": "code",
   "execution_count": null,
   "id": "b1e93934",
   "metadata": {},
   "outputs": [],
   "source": [
    "############# Main Analysis ###############3\n",
    "\n",
    "# Attitude \n",
    "phi = np.deg2rad(data[\"RollAngle\"].to_numpy())                      # Bank angle in radians\n",
    "\n",
    "# Atmospheric adjustments:\n",
    "rho = data[\"Pressure\"].to_numpy() * (287 * (df[\"Ambient_Temperature\"].to_numpy()+273.15))**-1             # Density found from barometer pressure & airspeed sensor temperatures\n",
    "v_eas = df[\"Airspeed_Sensor0\"].to_numpy()                               # Equivalent SSL airspeed (m/s)\n",
    "v_tas = v_eas * np.sqrt(1.225) * np.sqrt(rho)**-1   # the true airspeed\n",
    "q = 0.5 * rho * v_tas**2                            # Dynamic pressure \n",
    "\n",
    "# Propulsion characterization\n",
    "n = df[\"MotorRPM\"].to_numpy() / 60                               # Revolutions per second\n",
    "i_esc = df[\"EscCurrent\"]\n",
    "v_esc = df[\"EscVoltage\"]\n",
    "\n",
    "# Estimated propulsive power\n",
    "P_eta = cl_finders.eta_steady(prop, motor, v_tas, n, i_esc, v_esc)\n",
    "P_ct = cl_finders.thrust_steady(prop, rho, v_tas, n)\n",
    "\n",
    "# Getting drag coefficient\n",
    "Cd_eta = cl_finders.preq2cd(createv, v_tas, q, P_eta)\n",
    "Cd_ct = cl_finders.preq2cd(createv, v_tas, q, P_ct)\n",
    "\n",
    "# Getting lift coefficient\n",
    "CL = cl_finders.cl_banked(createv, q, phi)\n",
    "\n",
    "# Plot with static masking\n",
    "plt.figure(figsize=(10,5))\n",
    "plt.title(\"Manual Masking\")\n",
    "\n",
    "markers = ['^', 'o', '<', '>', '*', 's', 'v', '+', 'x', 'D', '.']\n",
    "\n",
    "for i in range(len(mask)):\n",
    "    plt.plot(CL[int(mask[i,0]):int(mask[i,1])], Cd_eta[int(mask[i,0]):int(mask[i,1])], linestyle='', marker=markers[i], markerfacecolor='r', markersize=4, markeredgecolor=[0,0,0])\n",
    "    plt.plot(CL[int(mask[i,0]):int(mask[i,1])], Cd_ct[int(mask[i,0]):int(mask[i,1])], linestyle='', marker=markers[i], markerfacecolor='b', markersize=4, markeredgecolor=[0,0,0])\n",
    "plt.grid(True)\n",
    "plt.xlabel(\"Lift Coefficient\")\n",
    "plt.ylabel(\"Drag Coefficient\")\n",
    "plt.show()\n",
    "\n",
    "plt.figure(figsize=(10,5))\n",
    "plt.title(\"Power to Propulsion Estimates\")\n",
    "for i in range(len(mask)):\n",
    "    plt.plot(v_tas[int(mask[i,0]):int(mask[i,1])], P_eta[int(mask[i,0]):int(mask[i,1])], label=\"Index: \"+str(i), linestyle='', marker=markers[i], markerfacecolor='r', markersize=4, markeredgecolor=[0,0,0])\n",
    "    plt.plot(v_tas[int(mask[i,0]):int(mask[i,1])], P_ct[int(mask[i,0]):int(mask[i,1])], linestyle='', marker=markers[i], markerfacecolor='b', markersize=4, markeredgecolor=[0,0,0])\n",
    "plt.grid(True)\n",
    "plt.xlabel(\"True Airspeed (m/s)\")\n",
    "plt.ylabel(\"Propulsive Power (W)\")\n",
    "plt.legend()\n",
    "plt.show()\n",
    "\n",
    "CDct_ave = np.zeros(len(mask))\n",
    "CDeta_ave = np.zeros(len(mask))\n",
    "CL_ave = np.zeros(len(mask))\n",
    "EAS_ave = np.zeros(len(mask))\n",
    "\n",
    "CDct_std = np.zeros(len(mask))\n",
    "CDeta_std = np.zeros(len(mask))\n",
    "CL_std = np.zeros(len(mask))\n",
    "\n",
    "for i in range(len(mask)):\n",
    "    print(i)\n",
    "    print(int(mask[i,0]))\n",
    "    print(int(mask[i,1]))\n",
    "    \n",
    "    CDeta_ave[i] = np.mean(Cd_eta[int(mask[i,0]):int(mask[i,1])])\n",
    "    CDct_ave[i] = np.mean(Cd_ct[int(mask[i,0]):int(mask[i,1])])\n",
    "    CL_ave[i] = np.mean(CL[int(mask[i,0]):int(mask[i,1])])\n",
    "    EAS_ave[i] = np.mean(v_eas[int(mask[i,0]):int(mask[i,1])])\n",
    "    \n",
    "    CDeta_std[i] = np.std(Cd_eta[int(mask[i,0]):int(mask[i,1])])\n",
    "    CDct_std[i] = np.std(Cd_ct[int(mask[i,0]):int(mask[i,1])])\n",
    "    CL_std[i] = np.std(CL[int(mask[i,0]):int(mask[i,1])])\n",
    "    \n",
    "# Finding drag polar:\n",
    "polar_eta = cl_finders.cd2polar(createv, CDeta_ave, CL_ave)\n",
    "polar_ct = cl_finders.cd2polar(createv, CDct_ave, CL_ave)\n",
    "\n",
    "# Finding power required @ SSL @ Standard weight of 12.6 kg\n",
    "Peq_eta, EAS = cl_finders.polar2preqew(createv, polar_eta, (7,14))\n",
    "Peq_ct, EAS = cl_finders.polar2preqew(createv, polar_ct, (7,14))\n",
    "\n",
    "plt.figure(figsize=(10,5))\n",
    "plt.plot(EAS, Peq_ct, label=\"Thrust Coefficient Method\")\n",
    "plt.plot(EAS, Peq_eta, label=\"Eta Coefficient Method\")\n",
    "plt.scatter(EAS_ave, CDct_ave * 0.5 * 1.225 * EAS_ave**3 * createv.area, marker='^', label='CT Method Points')\n",
    "plt.scatter(EAS_ave, CDeta_ave * 0.5 * 1.225 * EAS_ave**3 * createv.area, marker='^', label='Eta Method Points')\n",
    "plt.xlabel(\"Airspeed (Standard Sea-Level)\")\n",
    "plt.ylabel(\"Power Required at Standard Mass (12.6 KG)\")\n",
    "plt.legend()\n",
    "plt.grid(True)\n",
    "plt.show()\n",
    "    \n",
    "plt.figure(figsize=(10,5))\n",
    "plt.errorbar(CDeta_ave, CL_ave, xerr=CDeta_std, yerr=CL_std, fmt='+b', label=\"Eta Method\")\n",
    "plt.errorbar(CDct_ave, CL_ave, xerr=CDct_std, yerr=CL_std, fmt='xr', label=\"CT Method\")\n",
    "plt.xlabel(\"Drag Coefficient\")\n",
    "plt.ylabel(\"Lift Coefficient\")\n",
    "plt.legend()\n",
    "plt.grid(True)\n",
    "plt.show()"
   ]
  }
 ],
 "metadata": {
  "kernelspec": {
   "display_name": "Python 3.10.4 ('superwake-records')",
   "language": "python",
   "name": "python3"
  },
  "language_info": {
   "codemirror_mode": {
    "name": "ipython",
    "version": 3
   },
   "file_extension": ".py",
   "mimetype": "text/x-python",
   "name": "python",
   "nbconvert_exporter": "python",
   "pygments_lexer": "ipython3",
   "version": "3.10.4 (main, Mar 31 2022, 03:38:35) [Clang 12.0.0 ]"
  },
  "toc-autonumbering": false,
  "toc-showmarkdowntxt": false,
  "vscode": {
   "interpreter": {
    "hash": "c9cddf852242832967bb2f59795ae071090fb5257b7f5bb34218ff6533d42673"
   }
  }
 },
 "nbformat": 4,
 "nbformat_minor": 5
}
